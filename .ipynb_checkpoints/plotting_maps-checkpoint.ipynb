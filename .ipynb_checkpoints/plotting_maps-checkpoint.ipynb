{
 "cells": [
  {
   "cell_type": "code",
   "execution_count": 1,
   "id": "c19e54af-0c28-4331-8bd6-c34007b53370",
   "metadata": {},
   "outputs": [],
   "source": [
    "from nilearn import plotting\n",
    "import nibabel as nib"
   ]
  },
  {
   "cell_type": "code",
   "execution_count": 2,
   "id": "a27305ef-94dc-4fcb-a5a5-fa2bfc192b19",
   "metadata": {},
   "outputs": [],
   "source": [
    "def plot_subject_stat_maps(subjID, task1, task2, run=1):\n",
    "\n",
    "    file_path_task1 = f\"~/teams/a05/group_1_data/nonConfoundBeta/beta_{subjID}_{task1}_{run}.nii.gz\"\n",
    "    file_path_task2 = f\"~/teams/a05/group_1_data/nonConfoundBeta/beta_{subjID}_{task2}_{run}.nii.gz\"\n",
    "\n",
    "    beta_img_task1 = nib.load(file_path_task1)\n",
    "    beta_img_task2 = nib.load(file_path_task2)\n",
    "\n",
    "    plotting.plot_stat_map(beta_img_task1, title=f\"Subject {subjID} - Task: {task1}\", vmax=2)\n",
    "    plotting.plot_stat_map(beta_img_task2, title=f\"Subject {subjID} - Task: {task2}\", vmax=2)\n",
    "\n",
    "    plotting.show()"
   ]
  },
  {
   "cell_type": "code",
   "execution_count": null,
   "id": "0684975c-188d-4341-b1cc-306c13b900bd",
   "metadata": {},
   "outputs": [],
   "source": [
    "plot_subject_stat_maps(subjID=176, task1=\"colorwheel\", task2=\"samedifferent\", run=1)"
   ]
  },
  {
   "cell_type": "code",
   "execution_count": null,
   "id": "9a5dbcaa-c632-4b7f-ae3c-d8e39777aceb",
   "metadata": {},
   "outputs": [],
   "source": []
  }
 ],
 "metadata": {
  "kernelspec": {
   "display_name": "Python 3 (ipykernel)",
   "language": "python",
   "name": "python3"
  },
  "language_info": {
   "codemirror_mode": {
    "name": "ipython",
    "version": 3
   },
   "file_extension": ".py",
   "mimetype": "text/x-python",
   "name": "python",
   "nbconvert_exporter": "python",
   "pygments_lexer": "ipython3",
   "version": "3.11.9"
  }
 },
 "nbformat": 4,
 "nbformat_minor": 5
}
