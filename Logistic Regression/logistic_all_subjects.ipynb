{
 "cells": [
  {
   "cell_type": "code",
   "execution_count": 21,
   "id": "2c8bdb52-ddbb-4d41-a916-c513da590019",
   "metadata": {},
   "outputs": [],
   "source": [
    "import pandas as pd\n",
    "import numpy as np\n",
    "import glob\n",
    "import matplotlib.pyplot as plt\n",
    "from pathlib import Path\n",
    "import random\n",
    "\n",
    "#nilearn imports\n",
    "from nilearn import plotting, image, interfaces\n",
    "from nilearn.image import mean_img\n",
    "from nilearn.plotting import plot_anat, plot_img, plot_stat_map, show, plot_design_matrix\n",
    "from nilearn.glm import threshold_stats_img\n",
    "from nilearn.glm.first_level import FirstLevelModel, make_first_level_design_matrix\n",
    "from nilearn.reporting import get_clusters_table\n",
    "import nilearn\n",
    "import nibabel as nib\n",
    "\n",
    "#sklearn imports\n",
    "from sklearn.svm import SVC\n",
    "from sklearn.linear_model import LogisticRegression\n",
    "from sklearn.model_selection import train_test_split, cross_val_score, GridSearchCV, RandomizedSearchCV\n",
    "from sklearn.metrics import accuracy_score, confusion_matrix, ConfusionMatrixDisplay, precision_score, recall_score"
   ]
  },
  {
   "cell_type": "code",
   "execution_count": 48,
   "id": "b2d0c22e-c854-464f-9160-9e00377702af",
   "metadata": {},
   "outputs": [],
   "source": [
    "# loading all beta data together\n",
    "\n",
    "def load_beta_data():\n",
    "    \n",
    "    X, y = [], []\n",
    "    \n",
    "    directories = [Path(\"~/teams/a05/group_1_data/nonConfoundBeta/\").expanduser(), \n",
    "    Path(\"~/teams/a05/group_1_data/nonConfoundBeta/betas/\").expanduser()]\n",
    "\n",
    "    for directory in directories:\n",
    "        \n",
    "        beta_files = list(directory.glob(\"beta_*.nii.gz\"))\n",
    "\n",
    "        for file_path in beta_files:\n",
    "            \n",
    "            file_name = file_path.stem\n",
    "            subjID = file_name.split(\"_\")[1]\n",
    "            task = file_name.split(\"_\")[2]\n",
    "\n",
    "            beta_img = nib.load(str(file_path))\n",
    "            beta_data = beta_img.get_fdata().flatten()\n",
    "            \n",
    "            X.append(beta_data)\n",
    "            y.append(task)\n",
    "\n",
    "    return np.array(X), np.array(y)"
   ]
  },
  {
   "cell_type": "code",
   "execution_count": 49,
   "id": "b2f1b5fe-35a1-48b4-9be4-922f280d1c7b",
   "metadata": {},
   "outputs": [],
   "source": [
    "X, y = load_beta_data()"
   ]
  },
  {
   "cell_type": "code",
   "execution_count": 50,
   "id": "af3c3d04-39dd-4e5e-8411-b02649976931",
   "metadata": {},
   "outputs": [
    {
     "data": {
      "text/plain": [
       "902629"
      ]
     },
     "execution_count": 50,
     "metadata": {},
     "output_type": "execute_result"
    }
   ],
   "source": [
    "len(X[0])"
   ]
  },
  {
   "cell_type": "code",
   "execution_count": 51,
   "id": "473a62e9-aaf2-4d73-ac94-b051d6371c38",
   "metadata": {},
   "outputs": [
    {
     "name": "stdout",
     "output_type": "stream",
     "text": [
      "Loaded 191 runs\n"
     ]
    }
   ],
   "source": [
    "# Note - subjects 173B, 187B, 195B not included due to lack of preproc data\n",
    "# subjects 112 and 113 are not included due to lack of events file data\n",
    "# subject 145 is missing a run\n",
    "\n",
    "print(f\"Loaded {len(X)} runs\")"
   ]
  },
  {
   "cell_type": "code",
   "execution_count": 52,
   "id": "ae620e59-ea5f-4057-adf6-df83ebafb0f4",
   "metadata": {},
   "outputs": [],
   "source": [
    "# splitting data into 3 runs for train, 1 run for test per subject\n",
    "\n",
    "def load_beta_data_custom_split():\n",
    "    X_train, y_train = [], []\n",
    "    X_test, y_test = [], []\n",
    "\n",
    "    directories = [Path(\"~/teams/a05/group_1_data/nonConfoundBeta/\").expanduser(), \n",
    "    Path(\"~/teams/a05/group_1_data/nonConfoundBeta/betas/\").expanduser()]\n",
    "\n",
    "    subject_runs = {}\n",
    "\n",
    "    for directory in directories:\n",
    "        beta_files = list(directory.glob(\"beta_*.nii.gz\"))\n",
    "\n",
    "        for file_path in beta_files:\n",
    "            file_name = file_path.stem\n",
    "            parts = file_name.split(\"_\")\n",
    "\n",
    "            subjID = parts[1]\n",
    "            task = parts[2]\n",
    "            run = int(parts[3].split('.')[0])\n",
    "\n",
    "            if (subjID, task) not in subject_runs:\n",
    "                subject_runs[(subjID, task)] = []\n",
    "            subject_runs[(subjID, task)].append((run, file_path))\n",
    "\n",
    "    for (subjID, task), runs in subject_runs.items():\n",
    "        if len(runs) < 3:\n",
    "            continue\n",
    "\n",
    "        random.shuffle(runs)\n",
    "\n",
    "        test_run = random.choice(runs)\n",
    "        runs.remove(test_run)\n",
    "        train_runs = runs[:3]\n",
    "\n",
    "        for run, file_path in train_runs:\n",
    "            beta_img = nib.load(str(file_path))\n",
    "            beta_data = beta_img.get_fdata().flatten()\n",
    "\n",
    "            X_train.append(beta_data)\n",
    "            y_train.append(task)\n",
    "\n",
    "        run, file_path = test_run\n",
    "        beta_img = nib.load(str(file_path))\n",
    "        beta_data = beta_img.get_fdata().flatten()\n",
    "\n",
    "        X_test.append(beta_data)\n",
    "        y_test.append(task)\n",
    "\n",
    "    return np.array(X_train), np.array(y_train), np.array(X_test), np.array(y_test)"
   ]
  },
  {
   "cell_type": "code",
   "execution_count": 53,
   "id": "68842d2b-f3c3-4e1d-afc0-813389294208",
   "metadata": {},
   "outputs": [
    {
     "name": "stdout",
     "output_type": "stream",
     "text": [
      "Train Samples: 143, Test Samples: 48\n"
     ]
    }
   ],
   "source": [
    "X_train, y_train, X_test, y_test = load_beta_data_custom_split()\n",
    "print(f\"Train Samples: {len(X_train)}, Test Samples: {len(X_test)}\")"
   ]
  },
  {
   "cell_type": "code",
   "execution_count": 54,
   "id": "b493869a-9525-41a2-b3ea-d31e72d43ffb",
   "metadata": {},
   "outputs": [
    {
     "name": "stdout",
     "output_type": "stream",
     "text": [
      "y_train counts: \n"
     ]
    },
    {
     "data": {
      "text/plain": [
       "(None, {'colorwheel': 71, 'samedifferent': 72})"
      ]
     },
     "execution_count": 54,
     "metadata": {},
     "output_type": "execute_result"
    }
   ],
   "source": [
    "unique, counts = np.unique(y_train, return_counts=True)\n",
    "print('y_train counts: '), dict(zip(unique, counts))"
   ]
  },
  {
   "cell_type": "code",
   "execution_count": 55,
   "id": "c4d84eb9-1e87-4bb0-802b-d48d201318a5",
   "metadata": {},
   "outputs": [
    {
     "name": "stdout",
     "output_type": "stream",
     "text": [
      "y_train counts: \n"
     ]
    },
    {
     "data": {
      "text/plain": [
       "(None, {'colorwheel': 24, 'samedifferent': 24})"
      ]
     },
     "execution_count": 55,
     "metadata": {},
     "output_type": "execute_result"
    }
   ],
   "source": [
    "unique, counts = np.unique(y_test, return_counts=True)\n",
    "print('y_train counts: '), dict(zip(unique, counts))"
   ]
  },
  {
   "cell_type": "code",
   "execution_count": 66,
   "id": "dd8f7ac2-2bf4-4e33-8dc9-de0dcb2e86ba",
   "metadata": {},
   "outputs": [],
   "source": [
    "# Logistic regression with random 80-20 split across all subjects/runs\n",
    "def logistic_reg(X, y):\n",
    "    X_train, X_test, y_train, y_test = train_test_split(X, y, test_size=0.2, random_state=42)\n",
    "\n",
    "    print(f\"Training on {len(X_train)} samples, Testing on {len(X_test)} samples\")\n",
    "\n",
    "    logreg_model = LogisticRegression()\n",
    "    logreg_model.fit(X_train, y_train)\n",
    "    y_pred = logreg_model.predict(X_test)\n",
    "\n",
    "    y_pred_train = logreg_model.predict(X_train)  \n",
    "    train_accuracy = accuracy_score(y_train, y_pred_train) \n",
    "\n",
    "    accuracy = accuracy_score(y_test, y_pred)\n",
    "    precision = precision_score(y_test, y_pred, average='weighted')\n",
    "    recall = recall_score(y_test, y_pred, average='weighted')\n",
    "\n",
    "    print(f\"Test Accuracy: {accuracy:.4f}\")\n",
    "    print(f\"Train Accuracy: {train_accuracy:.4f}\")\n",
    "    print(f\"Precision: {precision:.4f}\")\n",
    "    print(f\"Recall: {recall:.4f}\")\n",
    "\n",
    "    cm = confusion_matrix(y_test, y_pred)\n",
    "    disp = ConfusionMatrixDisplay(confusion_matrix=cm)\n",
    "    disp.plot()\n",
    "    plt.show()\n",
    "\n",
    "    return logreg_model"
   ]
  },
  {
   "cell_type": "code",
   "execution_count": 67,
   "id": "d487c215-4b89-46b6-b1d8-5dc2221e06fd",
   "metadata": {},
   "outputs": [
    {
     "name": "stdout",
     "output_type": "stream",
     "text": [
      "Training on 152 samples, Testing on 39 samples\n",
      "Test Accuracy: 1.0000\n",
      "Train Accuracy: 1.0000\n",
      "Precision: 1.0000\n",
      "Recall: 1.0000\n"
     ]
    },
    {
     "data": {
      "image/png": "[encoded data removed]",
      "text/plain": [
       "<Figure size 640x480 with 2 Axes>"
      ]
     },
     "metadata": {},
     "output_type": "display_data"
    }
   ],
   "source": [
    "mod1 = logistic_reg(X, y)"
   ]
  },
  {
   "cell_type": "code",
   "execution_count": 58,
   "id": "340475ae-96f3-4963-a045-a03ca0048305",
   "metadata": {},
   "outputs": [],
   "source": [
    "# Logistic regression with 60/20/20 train/validation/test split and hyperparameter tuning\n",
    "\n",
    "def train_logistic_reg(X, y):\n",
    "\n",
    "    X_train_val, X_test, y_train_val, y_test = train_test_split(X, y, test_size=0.2, random_state=42)\n",
    "    X_train, X_val, y_train, y_val = train_test_split(X_train_val, y_train_val, test_size=0.25, random_state=42)\n",
    "\n",
    "    print(f\"Training on {len(X_train)} samples, Validating on {len(X_val)} samples, Testing on {len(X_test)} samples\")\n",
    "\n",
    "    param_grid = {'C': np.logspace(-2, 2, 5), 'penalty': ['l1', 'l2'], 'solver': ['liblinear']}\n",
    "\n",
    "    logreg = LogisticRegression(max_iter=500)\n",
    "    rand_search = RandomizedSearchCV(logreg, param_distributions=param_grid, n_iter=10, cv=3, scoring='accuracy', n_jobs=-1, random_state=42)\n",
    "    rand_search.fit(X_train, y_train)\n",
    "\n",
    "    best_model = rand_search.best_estimator_\n",
    "    print(f\"Best Hyperparameters: {rand_search.best_params_}\")\n",
    "\n",
    "    y_val_pred = best_model.predict(X_val)\n",
    "    val_accuracy = accuracy_score(y_val, y_val_pred)\n",
    "    print(f\"Validation Accuracy: {val_accuracy:.4f}\")\n",
    "\n",
    "    y_test_pred = best_model.predict(X_test)\n",
    "    test_accuracy = accuracy_score(y_test, y_test_pred)\n",
    "    print(f\"Test Accuracy: {test_accuracy:.4f}\")\n",
    "    precision = precision_score(y_test, y_test_pred, average='weighted')\n",
    "    recall = recall_score(y_test, y_test_pred, average='weighted')\n",
    "    print(f\"Precision: {precision:.4f}\")\n",
    "    print(f\"Recall: {recall:.4f}\")\n",
    "\n",
    "    cm = confusion_matrix(y_test, y_test_pred)\n",
    "    disp = ConfusionMatrixDisplay(confusion_matrix=cm)\n",
    "    disp.plot()\n",
    "    plt.show()\n",
    "\n",
    "    return best_model, val_accuracy, test_accuracy"
   ]
  },
  {
   "cell_type": "code",
   "execution_count": 59,
   "id": "bb3b3ffc-7a92-49f6-b5ca-ec8f82061a69",
   "metadata": {},
   "outputs": [
    {
     "name": "stdout",
     "output_type": "stream",
     "text": [
      "Training on 114 samples, Validating on 38 samples, Testing on 39 samples\n",
      "Best Hyperparameters: {'solver': 'liblinear', 'penalty': 'l1', 'C': 10.0}\n",
      "Validation Accuracy: 0.8158\n",
      "Test Accuracy: 0.8718\n",
      "Precision: 0.8733\n",
      "Recall: 0.8718\n"
     ]
    },
    {
     "data": {
      "image/png": "[encoded data removed]",
      "text/plain": [
       "<Figure size 640x480 with 2 Axes>"
      ]
     },
     "metadata": {},
     "output_type": "display_data"
    }
   ],
   "source": [
    "mod2 = train_logistic_reg(X, y)"
   ]
  },
  {
   "cell_type": "code",
   "execution_count": 68,
   "id": "bb706683-bf68-41cc-bb5a-58b2ee165805",
   "metadata": {},
   "outputs": [],
   "source": [
    "# Logistic reg model for the custom 3 runs/1 run train/test split\n",
    "\n",
    "def logistic_reg_custom(X_train, X_test, y_train, y_test):\n",
    "\n",
    "    print(f\"Training on {len(X_train)} samples, Testing on {len(X_test)} samples\")\n",
    "\n",
    "    logreg_model = LogisticRegression()\n",
    "    logreg_model.fit(X_train, y_train)\n",
    "    y_pred = logreg_model.predict(X_test)\n",
    "\n",
    "    accuracy = accuracy_score(y_test, y_pred)\n",
    "    precision = precision_score(y_test, y_pred, average='weighted')\n",
    "    recall = recall_score(y_test, y_pred, average='weighted')\n",
    "\n",
    "    y_pred_train = logreg_model.predict(X_train)  \n",
    "    train_accuracy = accuracy_score(y_train, y_pred_train) \n",
    "\n",
    "    print(f\"Model Accuracy: {accuracy:.4f}\")\n",
    "    print(f\"Train Accuracy: {train_accuracy:.4f}\")\n",
    "    print(f\"Precision: {precision:.4f}\")\n",
    "    print(f\"Recall: {recall:.4f}\")\n",
    "\n",
    "    cm = confusion_matrix(y_test, y_pred)\n",
    "    disp = ConfusionMatrixDisplay(confusion_matrix=cm)\n",
    "    disp.plot()\n",
    "    plt.show()\n",
    "\n",
    "    return logreg_model"
   ]
  },
  {
   "cell_type": "code",
   "execution_count": 69,
   "id": "8a6685ee-b648-4c70-8dd5-2f9a1fbc2f60",
   "metadata": {},
   "outputs": [
    {
     "name": "stdout",
     "output_type": "stream",
     "text": [
      "Training on 143 samples, Testing on 48 samples\n",
      "Model Accuracy: 1.0000\n",
      "Train Accuracy: 1.0000\n",
      "Precision: 1.0000\n",
      "Recall: 1.0000\n"
     ]
    },
    {
     "data": {
      "image/png": "[encoded data removed]",
      "text/plain": [
       "<Figure size 640x480 with 2 Axes>"
      ]
     },
     "metadata": {},
     "output_type": "display_data"
    }
   ],
   "source": [
    "mod3 = logistic_reg_custom(X_train, X_test, y_train, y_test)"
   ]
  },
  {
   "cell_type": "code",
   "execution_count": null,
   "id": "6057d619-a9b4-4830-a297-2ec23447195f",
   "metadata": {},
   "outputs": [],
   "source": []
  }
 ],
 "metadata": {
  "kernelspec": {
   "display_name": "Python 3 (ipykernel)",
   "language": "python",
   "name": "python3"
  },
  "language_info": {
   "codemirror_mode": {
    "name": "ipython",
    "version": 3
   },
   "file_extension": ".py",
   "mimetype": "text/x-python",
   "name": "python",
   "nbconvert_exporter": "python",
   "pygments_lexer": "ipython3",
   "version": "3.11.9"
  }
 },
 "nbformat": 4,
 "nbformat_minor": 5
}
