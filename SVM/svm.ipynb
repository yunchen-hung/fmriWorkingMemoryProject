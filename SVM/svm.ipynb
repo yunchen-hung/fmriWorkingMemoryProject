{
 "cells": [
  {
   "cell_type": "code",
   "execution_count": 38,
   "metadata": {},
   "outputs": [],
   "source": [
    "import pandas as pd\n",
    "import numpy as np\n",
    "import glob\n",
    "\n",
    "#data import\n",
    "#from dataExtraction import *\n",
    "\n",
    "#LIBSVM\n",
    "from libsvm.svmutil import *\n",
    "\n",
    "#nilearn imports\n",
    "from nilearn import plotting, image, interfaces\n",
    "from nilearn.image import mean_img\n",
    "from nilearn.plotting import plot_anat, plot_img, plot_stat_map, show, plot_design_matrix\n",
    "from nilearn.glm import threshold_stats_img\n",
    "from nilearn.glm.first_level import FirstLevelModel, make_first_level_design_matrix\n",
    "from nilearn.reporting import get_clusters_table\n",
    "import nibabel as nib\n",
    "\n",
    "#sklearn imports\n",
    "from sklearn.svm import SVC\n",
    "from sklearn.linear_model import LogisticRegression\n",
    "from sklearn.model_selection import train_test_split, cross_val_score\n",
    "from sklearn.metrics import accuracy_score, confusion_matrix, ConfusionMatrixDisplay"
   ]
  },
  {
   "cell_type": "code",
   "execution_count": 29,
   "metadata": {},
   "outputs": [],
   "source": [
    "def load_beta_data(topSubjects):\n",
    "    taskType = ['colorwheel', 'samedifferent']\n",
    "    num_runs = [1, 2, 3, 4]\n",
    "    \n",
    "    X, y = [], []\n",
    "\n",
    "    for subjID in topSubjects:\n",
    "        for task in taskType:\n",
    "            for run in num_runs:\n",
    "                try:\n",
    "                    file_path = f\"~/teams/a05/group_1_data/nonConfoundBeta/beta_{subjID}_{task}_{run}.nii.gz\"\n",
    "    \n",
    "                    # loading image\n",
    "                    beta_img = nib.load(str(file_path))\n",
    "    \n",
    "                    # getting the data as an array, then flattening to 1D feature vector for model training\n",
    "                    beta_data = beta_img.get_fdata().flatten()\n",
    "                    X.append(beta_data)\n",
    "    \n",
    "                    # appending the task category to y\n",
    "                    y.append((task))\n",
    "                except:\n",
    "                    #if there isn't a specific run, i.e. run 4\n",
    "                    continue\n",
    "    \n",
    "    return np.array(X), y"
   ]
  },
  {
   "cell_type": "code",
   "execution_count": 45,
   "metadata": {},
   "outputs": [],
   "source": [
    "def train_svmLight(X, y):\n",
    "    \n",
    "    X_train, X_test, y_train, y_test = train_test_split(X, y, test_size=0.2, random_state=42)\n",
    "\n",
    "    # SVM classifier\n",
    "    svm_model = svm_train(y_train, X_train)\n",
    "    y_pred, accuracy, _ = svm_predict(y_test, X_test, svm_model)\n",
    "\n",
    "    # Evaluate performance\n",
    "    print(\"Model Accuracy: \" + str(accuracy))\n",
    "\n",
    "    # Confusion matrix\n",
    "    cm = confusion_matrix(y_test, y_pred)\n",
    "    disp = ConfusionMatrixDisplay(confusion_matrix=cm)\n",
    "    disp.plot()\n",
    "    show()\n",
    "\n",
    "    return svm_model"
   ]
  },
  {
   "cell_type": "code",
   "execution_count": 46,
   "metadata": {},
   "outputs": [
    {
     "name": "stdout",
     "output_type": "stream",
     "text": [
      "*\n",
      "optimization finished, #iter = 102\n",
      "nu = 0.949527\n",
      "obj = -109.578931, rho = 0.319260\n",
      "nSV = 151, nBSV = 132\n",
      "Total nSV = 151\n",
      "Accuracy = 87.1795% (34/39) (classification)\n",
      "Model Accuracy: (87.17948717948718, 0.1282051282051282, 0.5546329639889197)\n"
     ]
    },
    {
     "data": {
      "image/png": "[encoded data removed]",
      "text/plain": [
       "<Figure size 640x480 with 2 Axes>"
      ]
     },
     "metadata": {},
     "output_type": "display_data"
    },
    {
     "data": {
      "text/plain": [
       "<libsvm.svm.svm_model at 0x7ff076499fd0>"
      ]
     },
     "execution_count": 46,
     "metadata": {},
     "output_type": "execute_result"
    }
   ],
   "source": [
    "#top29Subjects = [103, 105, 106, 110, 112, 113, 115, 124, 127, 130, \n",
    "#                    131, 133, 138, 142, 143, 145, 157, 159, 161, 165, \n",
    "#                    173, 176, 177, 183, 187, 195, 200, 207, 208]\n",
    "top29Subjects = [103, 105, 106, 110, 115, 124, 127, 130, \n",
    "                131, 133, 138, 142, 143, 145, 157, 159, 161, 165, \n",
    "                 176, 177, 183, 200, 207, 208]\n",
    "X, y = load_beta_data(top29Subjects)\n",
    "y = [1 if task == 'colorwheel' else 0 for task in y]\n",
    "train_svmLight(X, y)"
   ]
  },
  {
   "cell_type": "code",
   "execution_count": 47,
   "metadata": {},
   "outputs": [
    {
     "name": "stdout",
     "output_type": "stream",
     "text": [
      "Help on function svm_predict in module libsvm.svmutil:\n",
      "\n",
      "svm_predict(y, x, m, options='')\n",
      "    svm_predict(y, x, m [, options]) -> (p_labels, p_acc, p_vals)\n",
      "    \n",
      "    y: a list/tuple/ndarray of l true labels (type must be int/double).\n",
      "       It is used for calculating the accuracy. Use [] if true labels are\n",
      "       unavailable.\n",
      "    \n",
      "    x: 1. a list/tuple of l training instances. Feature vector of\n",
      "          each training instance is a list/tuple or dictionary.\n",
      "    \n",
      "       2. an l * n numpy ndarray or scipy spmatrix (n: number of features).\n",
      "    \n",
      "    Predict data (y, x) with the SVM model m.\n",
      "    options:\n",
      "        -b probability_estimates: whether to predict probability estimates,\n",
      "            0 or 1 (default 0).\n",
      "        -q : quiet mode (no outputs).\n",
      "    \n",
      "    The return tuple contains\n",
      "    p_labels: a list of predicted labels\n",
      "    p_acc: a tuple including  accuracy (for classification), mean-squared\n",
      "           error, and squared correlation coefficient (for regression).\n",
      "    p_vals: a list of decision values or probability estimates (if '-b 1'\n",
      "            is specified). If k is the number of classes, for decision values,\n",
      "            each element includes results of predicting k(k-1)/2 binary-class\n",
      "            SVMs. For probabilities, each element contains k values indicating\n",
      "            the probability that the testing instance is in each class.\n",
      "            Note that the order of classes here is the same as 'model.label'\n",
      "            field in the model structure.\n",
      "\n"
     ]
    }
   ],
   "source": [
    "help(svm_predict)"
   ]
  },
  {
   "cell_type": "code",
   "execution_count": 44,
   "metadata": {},
   "outputs": [
    {
     "name": "stdout",
     "output_type": "stream",
     "text": [
      "Help on function svm_train in module libsvm.svmutil:\n",
      "\n",
      "svm_train(arg1, arg2=None, arg3=None)\n",
      "    svm_train(y, x [, options]) -> model | ACC | MSE\n",
      "    \n",
      "    y: a list/tuple/ndarray of l true labels (type must be int/double).\n",
      "    \n",
      "    x: 1. a list/tuple of l training instances. Feature vector of\n",
      "          each training instance is a list/tuple or dictionary.\n",
      "    \n",
      "       2. an l * n numpy ndarray or scipy spmatrix (n: number of features).\n",
      "    \n",
      "    svm_train(prob [, options]) -> model | ACC | MSE\n",
      "    svm_train(prob, param) -> model | ACC| MSE\n",
      "    \n",
      "    Train an SVM model from data (y, x) or an svm_problem prob using\n",
      "    'options' or an svm_parameter param.\n",
      "    If '-v' is specified in 'options' (i.e., cross validation)\n",
      "    either accuracy (ACC) or mean-squared error (MSE) is returned.\n",
      "    options:\n",
      "        -s svm_type : set type of SVM (default 0)\n",
      "            0 -- C-SVC        (multi-class classification)\n",
      "            1 -- nu-SVC        (multi-class classification)\n",
      "            2 -- one-class SVM\n",
      "            3 -- epsilon-SVR    (regression)\n",
      "            4 -- nu-SVR        (regression)\n",
      "        -t kernel_type : set type of kernel function (default 2)\n",
      "            0 -- linear: u'*v\n",
      "            1 -- polynomial: (gamma*u'*v + coef0)^degree\n",
      "            2 -- radial basis function: exp(-gamma*|u-v|^2)\n",
      "            3 -- sigmoid: tanh(gamma*u'*v + coef0)\n",
      "            4 -- precomputed kernel (kernel values in training_set_file)\n",
      "        -d degree : set degree in kernel function (default 3)\n",
      "        -g gamma : set gamma in kernel function (default 1/num_features)\n",
      "        -r coef0 : set coef0 in kernel function (default 0)\n",
      "        -c cost : set the parameter C of C-SVC, epsilon-SVR, and nu-SVR (default 1)\n",
      "        -n nu : set the parameter nu of nu-SVC, one-class SVM, and nu-SVR (default 0.5)\n",
      "        -p epsilon : set the epsilon in loss function of epsilon-SVR (default 0.1)\n",
      "        -m cachesize : set cache memory size in MB (default 100)\n",
      "        -e epsilon : set tolerance of termination criterion (default 0.001)\n",
      "        -h shrinking : whether to use the shrinking heuristics, 0 or 1 (default 1)\n",
      "        -b probability_estimates : whether to train a model for probability estimates, 0 or 1 (default 0)\n",
      "        -wi weight : set the parameter C of class i to weight*C, for C-SVC (default 1)\n",
      "        -v n: n-fold cross validation mode\n",
      "        -q : quiet mode (no outputs)\n",
      "\n"
     ]
    }
   ],
   "source": [
    "help(svm_train)"
   ]
  },
  {
   "cell_type": "code",
   "execution_count": null,
   "metadata": {},
   "outputs": [],
   "source": []
  }
 ],
 "metadata": {
  "kernelspec": {
   "display_name": "Python 3 (ipykernel)",
   "language": "python",
   "name": "python3"
  },
  "language_info": {
   "codemirror_mode": {
    "name": "ipython",
    "version": 3
   },
   "file_extension": ".py",
   "mimetype": "text/x-python",
   "name": "python",
   "nbconvert_exporter": "python",
   "pygments_lexer": "ipython3",
   "version": "3.11.9"
  }
 },
 "nbformat": 4,
 "nbformat_minor": 4
}
