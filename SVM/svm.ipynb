{
 "cells": [
  {
   "cell_type": "code",
   "execution_count": null,
   "metadata": {},
   "outputs": [],
   "source": [
    "import pandas as pd\n",
    "import numpy as np\n",
    "import glob\n",
    "\n",
    "#data import\n",
    "#from dataExtraction import *\n",
    "\n",
    "#LIBSVM\n",
    "from libsvm.svmutil import *\n",
    "\n",
    "#nilearn imports\n",
    "from nilearn import plotting, image, interfaces, maskers\n",
    "from nilearn.image import mean_img\n",
    "from nilearn.plotting import plot_anat, plot_img, plot_stat_map, show, plot_design_matrix\n",
    "from nilearn.glm import threshold_stats_img\n",
    "from nilearn.glm.first_level import FirstLevelModel, make_first_level_design_matrix\n",
    "from nilearn.reporting import get_clusters_table\n",
    "import nibabel as nib\n",
    "from nilearn.maskers import NiftiMasker\n",
    "\n",
    "#sklearn imports\n",
    "from sklearn.svm import SVC\n",
    "from sklearn.linear_model import LogisticRegression\n",
    "from sklearn.model_selection import train_test_split, cross_val_score\n",
    "from sklearn.metrics import accuracy_score, confusion_matrix, ConfusionMatrixDisplay"
   ]
  },
  {
   "cell_type": "code",
   "execution_count": null,
   "metadata": {},
   "outputs": [],
   "source": [
    "def load_nonconfound_beta_data(topSubjects):\n",
    "    taskType = ['colorwheel', 'samedifferent']\n",
    "    num_runs = [1, 2, 3, 4]\n",
    "    \n",
    "    X, y = [], []\n",
    "\n",
    "    for subjID in topSubjects:\n",
    "        for task in taskType:\n",
    "            for run in num_runs:\n",
    "                try:\n",
    "                    file_path = f\"~/teams/a05/group_1_data/nonConfoundBeta/beta_{subjID}_{task}_{run}.nii.gz\"\n",
    "                    mask_path = f\"~/teams/a05/group_1_data/fmriprep/sub-{subjID}/func/sub-{subjID}_task-{task}_acq-multiband_run-1_space-MNI152NLin6Asym_res-2_desc-brain_mask.nii.gz\"\n",
    "    \n",
    "                    # loading image\n",
    "                    beta_img = nib.load(str(file_path))\n",
    "                    \n",
    "                    # getting the data as an array, then flattening to 1D feature vector for model training\n",
    "                    masker = NiftiMasker(mask_img=mask_path)\n",
    "                    beta_data = masker.fit_transform(beta_img).flatten()\n",
    "                    print(beta_data.shape)\n",
    "                \n",
    "                    X.append(beta_data)\n",
    "    \n",
    "                    # appending the task category to y\n",
    "                    y.append(task)\n",
    "                except:\n",
    "                    #if there isn't a specific run, i.e. run 4\n",
    "                    continue\n",
    "    #print(np.array(X).shape)\n",
    "    return np.array(X), y"
   ]
  },
  {
   "cell_type": "code",
   "execution_count": null,
   "metadata": {},
   "outputs": [],
   "source": [
    "def train_svmLight(X, y):\n",
    "    \n",
    "    X_train, X_test, y_train, y_test = train_test_split(X, y, test_size=0.2, shuffle=True, random_state=42)\n",
    "\n",
    "    # SVM classifier\n",
    "    svm_model = svm_train(y_train, X_train)\n",
    "    y_pred, accuracy, _ = svm_predict(y_test, X_test, svm_model)\n",
    "\n",
    "    # Evaluate performance\n",
    "    print(\"Model Accuracy: \" + str(accuracy))\n",
    "\n",
    "    # Confusion matrix\n",
    "    cm = confusion_matrix(y_test, y_pred)\n",
    "    disp = ConfusionMatrixDisplay(confusion_matrix=cm)\n",
    "    disp.plot()\n",
    "    show()\n",
    "\n",
    "    #print 3D model of predicted brain\n",
    "    weights_1d = svm_model.sv_coef\n",
    "    weights_3d = masker.inverse_transform(weights_1d)\n",
    "    plotting.plot_stat_map(weights_3d, vmax=2, alpha=0.5)\n",
    "\n",
    "    return svm_model"
   ]
  },
  {
   "cell_type": "code",
   "execution_count": null,
   "metadata": {},
   "outputs": [],
   "source": [
    "subjects = [103, 105, 106, 110, 112, 113, 115, 124, 127, 130, \n",
    "            131, 133, 138, 142, 143, 145, 157, 159, 161, 165, \n",
    "            173, 176, 177, 183, 187, 195, 200, 207, 208, 109,\n",
    "            117, 140, 147, 172, 178, 180, 181, 182, 188]\n",
    "load_nonconfound_beta_data(subjects)\n",
    "#X, y = load_nonconfound_beta_data(subjects)\n",
    "#y = [1 if task == 'colorwheel' else 0 for task in y]\n",
    "#train_svmLight(X, y)"
   ]
  },
  {
   "cell_type": "code",
   "execution_count": null,
   "metadata": {},
   "outputs": [],
   "source": [
    "X1, y1 = load_confound_beta_data(subjects)\n",
    "y1 = [1 if task == 'colorwheel' else 0 for task in y1]\n",
    "train_svmLight(X1, y1)"
   ]
  },
  {
   "cell_type": "code",
   "execution_count": null,
   "metadata": {},
   "outputs": [],
   "source": [
    "help(svm_predict)"
   ]
  },
  {
   "cell_type": "code",
   "execution_count": null,
   "metadata": {},
   "outputs": [],
   "source": [
    "help(svm_train)"
   ]
  },
  {
   "cell_type": "code",
   "execution_count": null,
   "metadata": {},
   "outputs": [],
   "source": []
  }
 ],
 "metadata": {
  "kernelspec": {
   "display_name": "Python 3 (ipykernel)",
   "language": "python",
   "name": "python3"
  },
  "language_info": {
   "codemirror_mode": {
    "name": "ipython",
    "version": 3
   },
   "file_extension": ".py",
   "mimetype": "text/x-python",
   "name": "python",
   "nbconvert_exporter": "python",
   "pygments_lexer": "ipython3",
   "version": "3.11.9"
  }
 },
 "nbformat": 4,
 "nbformat_minor": 4
}
