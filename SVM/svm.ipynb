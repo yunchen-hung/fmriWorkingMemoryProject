{
 "cells": [
  {
   "cell_type": "code",
   "execution_count": 1,
   "metadata": {},
   "outputs": [],
   "source": [
    "import pandas as pd\n",
    "import numpy as np\n",
    "import glob\n",
    "\n",
    "#data import\n",
    "#from dataExtraction import *\n",
    "\n",
    "#LIBSVM\n",
    "from libsvm.svmutil import *\n",
    "\n",
    "#nilearn imports\n",
    "import nilearn\n",
    "from nilearn import plotting, image, interfaces, maskers\n",
    "from nilearn.image import mean_img\n",
    "from nilearn.plotting import plot_anat, plot_img, plot_stat_map, show, plot_design_matrix\n",
    "from nilearn.glm import threshold_stats_img\n",
    "from nilearn.glm.first_level import FirstLevelModel, make_first_level_design_matrix\n",
    "from nilearn.reporting import get_clusters_table\n",
    "import nibabel as nib\n",
    "from nilearn.maskers import NiftiMasker\n",
    "\n",
    "#sklearn imports\n",
    "from sklearn.svm import SVC\n",
    "from sklearn.linear_model import LogisticRegression\n",
    "from sklearn.model_selection import train_test_split, cross_val_score\n",
    "from sklearn.metrics import accuracy_score, confusion_matrix, ConfusionMatrixDisplay"
   ]
  },
  {
   "cell_type": "code",
   "execution_count": 2,
   "metadata": {},
   "outputs": [],
   "source": [
    "def load_beta_data(topSubjects, data_type):\n",
    "    taskType = ['colorwheel', 'samedifferent']\n",
    "    num_runs = [1, 2, 3, 4]\n",
    "    \n",
    "    X, y = [], []\n",
    "\n",
    "    for subjID in topSubjects:\n",
    "        for task in taskType:\n",
    "            for run in num_runs:\n",
    "                try:\n",
    "                    file_path = f\"~/teams/a05/group_1_data/{data_type}Beta/beta_{subjID}_{task}_{run}.nii.gz\"\n",
    "                    \n",
    "                    beta_img = nib.load(str(file_path))\n",
    "                    \n",
    "                    # getting the data as an array, then flattening to 1D feature vector for model training\n",
    "                    mask_img = nilearn.datasets.load_mni152_brain_mask(resolution=2, threshold=0.2)\n",
    "                    masker = NiftiMasker(mask_img=mask_img, memory=\"nilearn_cache\", memory_level=1).fit()\n",
    "\n",
    "                    #transform all the data to get the brain voxels\n",
    "                    beta_data = masker.transform(beta_img).flatten()\n",
    "                \n",
    "                    X.append(beta_data)\n",
    "    \n",
    "                    # appending the task category to y\n",
    "                    y.append(task)\n",
    "                except:\n",
    "                    #if there isn't a specific run, i.e. run 4\n",
    "                    continue\n",
    "\n",
    "    return np.array(X), y"
   ]
  },
  {
   "cell_type": "code",
   "execution_count": 8,
   "metadata": {},
   "outputs": [],
   "source": [
    "def train_svmLight(X, y):\n",
    "    mask_img = nilearn.datasets.load_mni152_brain_mask(resolution=2, threshold=0.2)\n",
    "    masker = NiftiMasker(mask_img=mask_img, memory=\"nilearn_cache\", memory_level=1).fit()\n",
    "    \n",
    "    X_train, X_test, y_train, y_test = train_test_split(X, y, test_size=0.2, shuffle=True, random_state=42)\n",
    "\n",
    "    # SVM classifier\n",
    "    svm_model = svm_train(y_train, X_train, '-s 3 -t 2 -c 1 -g 0.1')\n",
    "    svm_save_model('svr_beta_model', svm_model)\n",
    "    y_pred, accuracy, _ = svm_predict(y_test, X_test, svm_model)\n",
    "    \n",
    "\n",
    "    # Evaluate performance\n",
    "    print(\"Model Accuracy: \" + str(accuracy))\n",
    "\n",
    "    # Confusion matrix\n",
    "    #cm = confusion_matrix(y_test, y_pred)\n",
    "    #disp = ConfusionMatrixDisplay(confusion_matrix=cm)\n",
    "    #disp.plot()\n",
    "    #show()\n",
    "\n",
    "    #print 3D model of predicted brain\n",
    "    svm_model = svm_load_model('svr_beta_model')\n",
    "    #select random subject\n",
    "    predicted_index = np.random.choice(len(y_test))\n",
    "    predicted_beta, _, _ = svm_predict([y_test[predicted_index]], [X_test[predicted_index]], svm_model)\n",
    "    weights_3d = masker.inverse_transform(predicted_beta)\n",
    "    plotting.plot_stat_map(weights_3d, vmax=2, alpha=0.5, title=f\"Predicted Brain\")\n",
    "    plotting.plot_stat_map(X_test[predicted_index], vmax=2, alpha=0.5, title=f\"Actual Brain\")\n",
    "\n",
    "    return svm_model"
   ]
  },
  {
   "cell_type": "code",
   "execution_count": 9,
   "metadata": {},
   "outputs": [],
   "source": [
    "subjects = [103, 105, 106, 110, 112, 113, 115, 124, 127, 130, \n",
    "            131, 133, 138, 142, 143, 145, 157, 159, 161, 165, \n",
    "            173, 176, 177, 183, 187, 195, 200, 207, 208, 109,\n",
    "            117, 140, 147, 172, 178, 180, 181, 182, 188]\n",
    "\n",
    "X, y = load_beta_data(subjects, 'nonConfound')\n",
    "y = [1 if task == 'colorwheel' else 0 for task in y]"
   ]
  },
  {
   "cell_type": "code",
   "execution_count": 10,
   "metadata": {},
   "outputs": [
    {
     "name": "stdout",
     "output_type": "stream",
     "text": [
      "*.*\n",
      "optimization finished, #iter = 494\n",
      "nu = 0.399638\n",
      "obj = -17.274058, rho = -0.492593\n",
      "nSV = 216, nBSV = 0\n",
      "Mean squared error = 0.250459 (regression)\n",
      "Squared correlation coefficient = nan (regression)\n",
      "Model Accuracy: (0.0, 0.2504589100885396, nan)\n",
      "Mean squared error = 0.242647 (regression)\n",
      "Squared correlation coefficient = nan (regression)\n"
     ]
    },
    {
     "ename": "TypeError",
     "evalue": "X must be of shape (samples, 235375).",
     "output_type": "error",
     "traceback": [
      "\u001b[0;31m---------------------------------------------------------------------------\u001b[0m",
      "\u001b[0;31mTypeError\u001b[0m                                 Traceback (most recent call last)",
      "Cell \u001b[0;32mIn[10], line 1\u001b[0m\n\u001b[0;32m----> 1\u001b[0m \u001b[43mtrain_svmLight\u001b[49m\u001b[43m(\u001b[49m\u001b[43mX\u001b[49m\u001b[43m,\u001b[49m\u001b[43m \u001b[49m\u001b[43my\u001b[49m\u001b[43m)\u001b[49m\n",
      "Cell \u001b[0;32mIn[8], line 27\u001b[0m, in \u001b[0;36mtrain_svmLight\u001b[0;34m(X, y)\u001b[0m\n\u001b[1;32m     25\u001b[0m predicted_index \u001b[38;5;241m=\u001b[39m np\u001b[38;5;241m.\u001b[39mrandom\u001b[38;5;241m.\u001b[39mchoice(\u001b[38;5;28mlen\u001b[39m(y_test))\n\u001b[1;32m     26\u001b[0m predicted_beta, _, _ \u001b[38;5;241m=\u001b[39m svm_predict([y_test[predicted_index]], [X_test[predicted_index]], svm_model)\n\u001b[0;32m---> 27\u001b[0m weights_3d \u001b[38;5;241m=\u001b[39m \u001b[43mmasker\u001b[49m\u001b[38;5;241;43m.\u001b[39;49m\u001b[43minverse_transform\u001b[49m\u001b[43m(\u001b[49m\u001b[43mpredicted_beta\u001b[49m\u001b[43m)\u001b[49m\n\u001b[1;32m     28\u001b[0m plotting\u001b[38;5;241m.\u001b[39mplot_stat_map(weights_3d, vmax\u001b[38;5;241m=\u001b[39m\u001b[38;5;241m2\u001b[39m, alpha\u001b[38;5;241m=\u001b[39m\u001b[38;5;241m0.5\u001b[39m, title\u001b[38;5;241m=\u001b[39m\u001b[38;5;124mf\u001b[39m\u001b[38;5;124m\"\u001b[39m\u001b[38;5;124mPredicted Brain\u001b[39m\u001b[38;5;124m\"\u001b[39m)\n\u001b[1;32m     29\u001b[0m plotting\u001b[38;5;241m.\u001b[39mplot_stat_map(X_test[predicted_index], vmax\u001b[38;5;241m=\u001b[39m\u001b[38;5;241m2\u001b[39m, alpha\u001b[38;5;241m=\u001b[39m\u001b[38;5;241m0.5\u001b[39m, title\u001b[38;5;241m=\u001b[39m\u001b[38;5;124mf\u001b[39m\u001b[38;5;124m\"\u001b[39m\u001b[38;5;124mActual Brain\u001b[39m\u001b[38;5;124m\"\u001b[39m)\n",
      "File \u001b[0;32m~/.local/lib/python3.11/site-packages/nilearn/maskers/base_masker.py:385\u001b[0m, in \u001b[0;36mBaseMasker.inverse_transform\u001b[0;34m(self, X)\u001b[0m\n\u001b[1;32m    361\u001b[0m \u001b[38;5;250m\u001b[39m\u001b[38;5;124;03m\"\"\"Transform the 2D data matrix back to an image in brain space.\u001b[39;00m\n\u001b[1;32m    362\u001b[0m \n\u001b[1;32m    363\u001b[0m \u001b[38;5;124;03mThis step only performs spatial unmasking,\u001b[39;00m\n\u001b[0;32m   (...)\u001b[0m\n\u001b[1;32m    381\u001b[0m \n\u001b[1;32m    382\u001b[0m \u001b[38;5;124;03m\"\"\"\u001b[39;00m\n\u001b[1;32m    383\u001b[0m \u001b[38;5;28mself\u001b[39m\u001b[38;5;241m.\u001b[39m_check_fitted()\n\u001b[0;32m--> 385\u001b[0m img \u001b[38;5;241m=\u001b[39m \u001b[38;5;28;43mself\u001b[39;49m\u001b[38;5;241;43m.\u001b[39;49m\u001b[43m_cache\u001b[49m\u001b[43m(\u001b[49m\u001b[43mmasking\u001b[49m\u001b[38;5;241;43m.\u001b[39;49m\u001b[43munmask\u001b[49m\u001b[43m)\u001b[49m\u001b[43m(\u001b[49m\u001b[43mX\u001b[49m\u001b[43m,\u001b[49m\u001b[43m \u001b[49m\u001b[38;5;28;43mself\u001b[39;49m\u001b[38;5;241;43m.\u001b[39;49m\u001b[43mmask_img_\u001b[49m\u001b[43m)\u001b[49m\n\u001b[1;32m    386\u001b[0m \u001b[38;5;66;03m# Be robust again memmapping that will create read-only arrays in\u001b[39;00m\n\u001b[1;32m    387\u001b[0m \u001b[38;5;66;03m# internal structures of the header: remove the memmaped array\u001b[39;00m\n\u001b[1;32m    388\u001b[0m \u001b[38;5;28;01mwith\u001b[39;00m contextlib\u001b[38;5;241m.\u001b[39msuppress(\u001b[38;5;167;01mException\u001b[39;00m):\n",
      "File \u001b[0;32m/opt/conda/lib/python3.11/site-packages/joblib/memory.py:573\u001b[0m, in \u001b[0;36mMemorizedFunc.__call__\u001b[0;34m(self, *args, **kwargs)\u001b[0m\n\u001b[1;32m    572\u001b[0m \u001b[38;5;28;01mdef\u001b[39;00m \u001b[38;5;21m__call__\u001b[39m(\u001b[38;5;28mself\u001b[39m, \u001b[38;5;241m*\u001b[39margs, \u001b[38;5;241m*\u001b[39m\u001b[38;5;241m*\u001b[39mkwargs):\n\u001b[0;32m--> 573\u001b[0m     \u001b[38;5;28;01mreturn\u001b[39;00m \u001b[38;5;28;43mself\u001b[39;49m\u001b[38;5;241;43m.\u001b[39;49m\u001b[43m_cached_call\u001b[49m\u001b[43m(\u001b[49m\u001b[43margs\u001b[49m\u001b[43m,\u001b[49m\u001b[43m \u001b[49m\u001b[43mkwargs\u001b[49m\u001b[43m,\u001b[49m\u001b[43m \u001b[49m\u001b[43mshelving\u001b[49m\u001b[38;5;241;43m=\u001b[39;49m\u001b[38;5;28;43;01mFalse\u001b[39;49;00m\u001b[43m)\u001b[49m\n",
      "File \u001b[0;32m/opt/conda/lib/python3.11/site-packages/joblib/memory.py:530\u001b[0m, in \u001b[0;36mMemorizedFunc._cached_call\u001b[0;34m(self, args, kwargs, shelving)\u001b[0m\n\u001b[1;32m    524\u001b[0m \u001b[38;5;28;01mif\u001b[39;00m \u001b[38;5;28mself\u001b[39m\u001b[38;5;241m.\u001b[39m_verbose \u001b[38;5;241m>\u001b[39m \u001b[38;5;241m10\u001b[39m:\n\u001b[1;32m    525\u001b[0m     \u001b[38;5;28mself\u001b[39m\u001b[38;5;241m.\u001b[39mwarn(\n\u001b[1;32m    526\u001b[0m         \u001b[38;5;124mf\u001b[39m\u001b[38;5;124m\"\u001b[39m\u001b[38;5;124mComputing func \u001b[39m\u001b[38;5;132;01m{\u001b[39;00mfunc_name\u001b[38;5;132;01m}\u001b[39;00m\u001b[38;5;124m, argument hash \u001b[39m\u001b[38;5;132;01m{\u001b[39;00margs_id\u001b[38;5;132;01m}\u001b[39;00m\u001b[38;5;124m \u001b[39m\u001b[38;5;124m\"\u001b[39m\n\u001b[1;32m    527\u001b[0m         \u001b[38;5;124mf\u001b[39m\u001b[38;5;124m\"\u001b[39m\u001b[38;5;124min location \u001b[39m\u001b[38;5;132;01m{\u001b[39;00mlocation\u001b[38;5;132;01m}\u001b[39;00m\u001b[38;5;124m\"\u001b[39m\n\u001b[1;32m    528\u001b[0m     )\n\u001b[0;32m--> 530\u001b[0m \u001b[38;5;28;01mreturn\u001b[39;00m \u001b[38;5;28;43mself\u001b[39;49m\u001b[38;5;241;43m.\u001b[39;49m\u001b[43m_call\u001b[49m\u001b[43m(\u001b[49m\u001b[43mcall_id\u001b[49m\u001b[43m,\u001b[49m\u001b[43m \u001b[49m\u001b[43margs\u001b[49m\u001b[43m,\u001b[49m\u001b[43m \u001b[49m\u001b[43mkwargs\u001b[49m\u001b[43m,\u001b[49m\u001b[43m \u001b[49m\u001b[43mshelving\u001b[49m\u001b[43m)\u001b[49m\n",
      "File \u001b[0;32m/opt/conda/lib/python3.11/site-packages/joblib/memory.py:762\u001b[0m, in \u001b[0;36mMemorizedFunc._call\u001b[0;34m(self, call_id, args, kwargs, shelving)\u001b[0m\n\u001b[1;32m    760\u001b[0m \u001b[38;5;28mself\u001b[39m\u001b[38;5;241m.\u001b[39m_before_call(args, kwargs)\n\u001b[1;32m    761\u001b[0m start_time \u001b[38;5;241m=\u001b[39m time\u001b[38;5;241m.\u001b[39mtime()\n\u001b[0;32m--> 762\u001b[0m output \u001b[38;5;241m=\u001b[39m \u001b[38;5;28;43mself\u001b[39;49m\u001b[38;5;241;43m.\u001b[39;49m\u001b[43mfunc\u001b[49m\u001b[43m(\u001b[49m\u001b[38;5;241;43m*\u001b[39;49m\u001b[43margs\u001b[49m\u001b[43m,\u001b[49m\u001b[43m \u001b[49m\u001b[38;5;241;43m*\u001b[39;49m\u001b[38;5;241;43m*\u001b[39;49m\u001b[43mkwargs\u001b[49m\u001b[43m)\u001b[49m\n\u001b[1;32m    763\u001b[0m \u001b[38;5;28;01mreturn\u001b[39;00m \u001b[38;5;28mself\u001b[39m\u001b[38;5;241m.\u001b[39m_after_call(call_id, args, kwargs, shelving,\n\u001b[1;32m    764\u001b[0m                         output, start_time)\n",
      "File \u001b[0;32m~/.local/lib/python3.11/site-packages/nilearn/masking.py:973\u001b[0m, in \u001b[0;36munmask\u001b[0;34m(X, mask_img, order)\u001b[0m\n\u001b[1;32m    971\u001b[0m     unmasked \u001b[38;5;241m=\u001b[39m _unmask_4d(X, mask, order\u001b[38;5;241m=\u001b[39morder)\n\u001b[1;32m    972\u001b[0m \u001b[38;5;28;01melif\u001b[39;00m np\u001b[38;5;241m.\u001b[39mndim(X) \u001b[38;5;241m==\u001b[39m \u001b[38;5;241m1\u001b[39m:\n\u001b[0;32m--> 973\u001b[0m     unmasked \u001b[38;5;241m=\u001b[39m \u001b[43m_unmask_3d\u001b[49m\u001b[43m(\u001b[49m\u001b[43mX\u001b[49m\u001b[43m,\u001b[49m\u001b[43m \u001b[49m\u001b[43mmask\u001b[49m\u001b[43m,\u001b[49m\u001b[43m \u001b[49m\u001b[43morder\u001b[49m\u001b[38;5;241;43m=\u001b[39;49m\u001b[43morder\u001b[49m\u001b[43m)\u001b[49m\n\u001b[1;32m    974\u001b[0m \u001b[38;5;28;01melse\u001b[39;00m:\n\u001b[1;32m    975\u001b[0m     \u001b[38;5;28;01mraise\u001b[39;00m \u001b[38;5;167;01mTypeError\u001b[39;00m(\n\u001b[1;32m    976\u001b[0m         \u001b[38;5;124mf\u001b[39m\u001b[38;5;124m\"\u001b[39m\u001b[38;5;124mMasked data X must be 2D or 1D array; got shape: \u001b[39m\u001b[38;5;132;01m{\u001b[39;00mX\u001b[38;5;241m.\u001b[39mshape\u001b[38;5;132;01m!s}\u001b[39;00m\u001b[38;5;124m\"\u001b[39m\n\u001b[1;32m    977\u001b[0m     )\n",
      "File \u001b[0;32m~/.local/lib/python3.11/site-packages/nilearn/masking.py:891\u001b[0m, in \u001b[0;36m_unmask_3d\u001b[0;34m(X, mask, order)\u001b[0m\n\u001b[1;32m    889\u001b[0m n_features \u001b[38;5;241m=\u001b[39m mask\u001b[38;5;241m.\u001b[39msum()\n\u001b[1;32m    890\u001b[0m \u001b[38;5;28;01mif\u001b[39;00m X\u001b[38;5;241m.\u001b[39mshape[\u001b[38;5;241m0\u001b[39m] \u001b[38;5;241m!=\u001b[39m n_features:\n\u001b[0;32m--> 891\u001b[0m     \u001b[38;5;28;01mraise\u001b[39;00m \u001b[38;5;167;01mTypeError\u001b[39;00m(\u001b[38;5;124mf\u001b[39m\u001b[38;5;124m\"\u001b[39m\u001b[38;5;124mX must be of shape (samples, \u001b[39m\u001b[38;5;132;01m{\u001b[39;00mn_features\u001b[38;5;132;01m}\u001b[39;00m\u001b[38;5;124m).\u001b[39m\u001b[38;5;124m\"\u001b[39m)\n\u001b[1;32m    893\u001b[0m data \u001b[38;5;241m=\u001b[39m np\u001b[38;5;241m.\u001b[39mzeros(\n\u001b[1;32m    894\u001b[0m     (mask\u001b[38;5;241m.\u001b[39mshape[\u001b[38;5;241m0\u001b[39m], mask\u001b[38;5;241m.\u001b[39mshape[\u001b[38;5;241m1\u001b[39m], mask\u001b[38;5;241m.\u001b[39mshape[\u001b[38;5;241m2\u001b[39m]),\n\u001b[1;32m    895\u001b[0m     dtype\u001b[38;5;241m=\u001b[39mX\u001b[38;5;241m.\u001b[39mdtype,\n\u001b[1;32m    896\u001b[0m     order\u001b[38;5;241m=\u001b[39morder,\n\u001b[1;32m    897\u001b[0m )\n\u001b[1;32m    898\u001b[0m data[mask] \u001b[38;5;241m=\u001b[39m X\n",
      "\u001b[0;31mTypeError\u001b[0m: X must be of shape (samples, 235375)."
     ]
    }
   ],
   "source": [
    "train_svmLight(X, y)"
   ]
  },
  {
   "cell_type": "code",
   "execution_count": 16,
   "metadata": {},
   "outputs": [
    {
     "name": "stdout",
     "output_type": "stream",
     "text": [
      "Mean squared error = 0.257462 (regression)\n",
      "Squared correlation coefficient = nan (regression)\n",
      "[0.4925925925925935]\n"
     ]
    },
    {
     "ename": "ValueError",
     "evalue": "setting an array element with a sequence. The requested array has an inhomogeneous shape after 1 dimensions. The detected shape was (216,) + inhomogeneous part.",
     "output_type": "error",
     "traceback": [
      "\u001b[0;31m---------------------------------------------------------------------------\u001b[0m",
      "\u001b[0;31mValueError\u001b[0m                                Traceback (most recent call last)",
      "Cell \u001b[0;32mIn[16], line 11\u001b[0m\n\u001b[1;32m      8\u001b[0m \u001b[38;5;28mprint\u001b[39m(predicted_beta)\n\u001b[1;32m     10\u001b[0m sv_coef \u001b[38;5;241m=\u001b[39m np\u001b[38;5;241m.\u001b[39marray(svm_model\u001b[38;5;241m.\u001b[39mget_sv_coef())\u001b[38;5;241m.\u001b[39mflatten()  \u001b[38;5;66;03m# Coefficients (alpha * y)\u001b[39;00m\n\u001b[0;32m---> 11\u001b[0m support_vectors \u001b[38;5;241m=\u001b[39m \u001b[43mnp\u001b[49m\u001b[38;5;241;43m.\u001b[39;49m\u001b[43marray\u001b[49m\u001b[43m(\u001b[49m\u001b[43m[\u001b[49m\u001b[38;5;28;43mlist\u001b[39;49m\u001b[43m(\u001b[49m\u001b[43msv\u001b[49m\u001b[38;5;241;43m.\u001b[39;49m\u001b[43mvalues\u001b[49m\u001b[43m(\u001b[49m\u001b[43m)\u001b[49m\u001b[43m)\u001b[49m\u001b[43m \u001b[49m\u001b[38;5;28;43;01mfor\u001b[39;49;00m\u001b[43m \u001b[49m\u001b[43msv\u001b[49m\u001b[43m \u001b[49m\u001b[38;5;129;43;01min\u001b[39;49;00m\u001b[43m \u001b[49m\u001b[43msvm_model\u001b[49m\u001b[38;5;241;43m.\u001b[39;49m\u001b[43mget_SV\u001b[49m\u001b[43m(\u001b[49m\u001b[43m)\u001b[49m\u001b[43m]\u001b[49m\u001b[43m)\u001b[49m  \u001b[38;5;66;03m# Support vectors\u001b[39;00m\n\u001b[1;32m     13\u001b[0m \u001b[38;5;66;03m# Compute w (only valid for linear kernel)\u001b[39;00m\n\u001b[1;32m     14\u001b[0m w \u001b[38;5;241m=\u001b[39m np\u001b[38;5;241m.\u001b[39msum(sv_coef[:, np\u001b[38;5;241m.\u001b[39mnewaxis] \u001b[38;5;241m*\u001b[39m support_vectors, axis\u001b[38;5;241m=\u001b[39m\u001b[38;5;241m0\u001b[39m)\n",
      "\u001b[0;31mValueError\u001b[0m: setting an array element with a sequence. The requested array has an inhomogeneous shape after 1 dimensions. The detected shape was (216,) + inhomogeneous part."
     ]
    }
   ],
   "source": [
    "X_train, X_test, y_train, y_test = train_test_split(X, y, test_size=0.2, shuffle=True, random_state=42)\n",
    "svm_model = svm_load_model('svr_beta_model')\n",
    "mask_img = nilearn.datasets.load_mni152_brain_mask(resolution=2, threshold=0.2)\n",
    "masker = NiftiMasker(mask_img=mask_img, memory=\"nilearn_cache\", memory_level=1).fit()\n",
    "#select random subject\n",
    "predicted_index = np.random.choice(len(y_test))\n",
    "predicted_beta, _, _ = svm_predict([y_test[predicted_index]], [X_test[predicted_index]], svm_model)\n",
    "print(predicted_beta)\n",
    "\n",
    "sv_coef = np.array(svm_model.get_sv_coef()).flatten()  # Coefficients (alpha * y)\n",
    "support_vectors = np.array([list(sv.values()) for sv in svm_model.get_SV()])  # Support vectors\n",
    "\n",
    "# Compute w (only valid for linear kernel)\n",
    "w = np.sum(sv_coef[:, np.newaxis] * support_vectors, axis=0)\n",
    "b = -model.rho[0]  # Bias term\n",
    "\n",
    "# Target prediction value (e.g., predicted decision function output)\n",
    "y_target = y_test[predicted_index]  # Adjust this based on expected output\n",
    "\n",
    "# Solve for x using pseudo-inverse (Moore-Penrose)\n",
    "x_predicted = pinv(w) @ (y_target - b)\n",
    "\n",
    "weights_3d = masker.inverse_transform(x_predicted)\n",
    "plotting.plot_stat_map(weights_3d, vmax=2, alpha=0.5, title=f\"Predicted Brain\")\n",
    "plotting.plot_stat_map(X_test[predicted_index], vmax=2, alpha=0.5, title=f\"Actual Brain\")"
   ]
  },
  {
   "cell_type": "code",
   "execution_count": null,
   "metadata": {},
   "outputs": [],
   "source": [
    "X1, y1 = load_beta_data(subjects, 'confound')\n",
    "y1 = [1 if task == 'colorwheel' else 0 for task in y1]"
   ]
  },
  {
   "cell_type": "code",
   "execution_count": null,
   "metadata": {},
   "outputs": [],
   "source": [
    "train_svmLight(X1, y1)"
   ]
  },
  {
   "cell_type": "code",
   "execution_count": null,
   "metadata": {},
   "outputs": [],
   "source": [
    "help(svm_predict)"
   ]
  },
  {
   "cell_type": "code",
   "execution_count": null,
   "metadata": {},
   "outputs": [],
   "source": [
    "help(svm_train)"
   ]
  },
  {
   "cell_type": "code",
   "execution_count": null,
   "metadata": {},
   "outputs": [],
   "source": []
  }
 ],
 "metadata": {
  "kernelspec": {
   "display_name": "Python 3 (ipykernel)",
   "language": "python",
   "name": "python3"
  },
  "language_info": {
   "codemirror_mode": {
    "name": "ipython",
    "version": 3
   },
   "file_extension": ".py",
   "mimetype": "text/x-python",
   "name": "python",
   "nbconvert_exporter": "python",
   "pygments_lexer": "ipython3",
   "version": "3.11.9"
  }
 },
 "nbformat": 4,
 "nbformat_minor": 4
}
