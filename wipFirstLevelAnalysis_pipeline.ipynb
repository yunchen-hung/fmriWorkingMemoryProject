{
 "cells": [
  {
   "cell_type": "code",
   "execution_count": 2,
   "metadata": {},
   "outputs": [],
   "source": [
    "import pandas as pd\n",
    "import numpy as np\n",
    "\n",
    "#nilearn imports\n",
    "from nilearn import plotting, image\n",
    "from nilearn.image import mean_img\n",
    "from nilearn.plotting import plot_anat, plot_img, plot_stat_map, show, plot_design_matrix\n",
    "from nilearn.glm import threshold_stats_img\n",
    "from nilearn.glm.first_level import FirstLevelModel, make_first_level_design_matrix\n",
    "from nilearn.reporting import get_clusters_table"
   ]
  },
  {
   "cell_type": "code",
   "execution_count": null,
   "metadata": {},
   "outputs": [
    {
     "name": "stderr",
     "output_type": "stream",
     "text": [
      "/Users/jennifer/anaconda3/lib/python3.11/site-packages/nilearn/glm/first_level/experimental_paradigm.py:129: UserWarning: 'trial_type' column not found in the given events data.\n",
      "  warnings.warn(\n",
      "/Users/jennifer/anaconda3/lib/python3.11/site-packages/nilearn/glm/first_level/experimental_paradigm.py:167: UserWarning: The following unexpected columns in events data will be ignored: msecProbeRT, probert, probeACC, stimStart, stimFlip, LastITI, ProbeLoc, error, runStart, scannerStart, SetSize, correctResp, counterbalance, ProbeType, SeqStartTime, CorrectProbeColor, ProbeMatch, chooseSequence, ThisITI, probeStart, centralJitter, trialStart, CurrentTask, subject, response, block, ChosenProbeColor\n",
      "  warnings.warn(\n"
     ]
    },
    {
     "data": {
      "text/plain": [
       "{<nibabel.nifti1.Nifti1Image at 0x16d3a1050>}"
      ]
     },
     "execution_count": 17,
     "metadata": {},
     "output_type": "execute_result"
    }
   ],
   "source": [
    "#function to get first level weights for the runs\n",
    "#possible task types include colorWheel or sameDifferent \n",
    "\n",
    "def extract_beta_weights(subject_id = None, task_type = 'colorWheel',  n_runs=1):\n",
    "    #parameters\n",
    "    tr = 2.0 \n",
    "    hrf_model = \"spm + derivative\"\n",
    "    smoothing_fwhm = 0.6\n",
    "    drift_model = \"cosine\"\n",
    "    run_betas = {\n",
    "        'colorWheel': {},\n",
    "        'sameDifferent': {}\n",
    "    }\n",
    "\n",
    "    for num_run in range(n_runs):\n",
    "        #load subject nii files\n",
    "        run_img = image.load_img(f'/Volumes/kiyonaga/MIPS/fMRI/subjects/MIPS_{subject_id}/func/run0{num_run+1}/srraf**.nii')\n",
    "\n",
    "        #load the event file for the run\n",
    "        events = pd.read_table(f'/Volumes/kiyonaga/MIPS/BIDS/sub-{subject_id}/func/sub-{subject_id}_task-{task_type.lower()}_acq-norm_run-{num_run+1}_events.tsv')\n",
    "\n",
    "        #run the first level model\n",
    "        fmri_glm = FirstLevelModel(\n",
    "            t_r=tr,\n",
    "            hrf_model=hrf_model,\n",
    "            smoothing_fwhm=smoothing_fwhm,\n",
    "            drift_model=drift_model,\n",
    "            minimize_memory=False   \n",
    "        )\n",
    "\n",
    "        fmri_glm = fmri_glm.fit(run_img, events)\n",
    "\n",
    "        #create design matrix\n",
    "        design_matrix = fmri_glm.design_matrices_[0]\n",
    "\n",
    "        #\n",
    "        n_regressors = design_matrix.shape[1]\n",
    "        activation = np.zeros(n_regressors)\n",
    "        activation[0] = 1\n",
    "\n",
    "        #should we remove confound with high_variance_confounds?\n",
    "\n",
    "        # t-statistic to z-scale \n",
    "        z_map = fmri_glm.compute_contrast(activation, output_type=\"z_score\")\n",
    "        run_betas[task_type][f'run_{num_run+1}'] = {z_map}\n",
    "    return run_betas\n",
    "\n",
    "extract_beta_weights(103, 'sameDifferent')['sameDifferent']['run_1']"
   ]
  },
  {
   "cell_type": "code",
   "execution_count": 20,
   "metadata": {},
   "outputs": [
    {
     "name": "stderr",
     "output_type": "stream",
     "text": [
      "/Users/jennifer/anaconda3/lib/python3.11/site-packages/nilearn/glm/first_level/experimental_paradigm.py:129: UserWarning: 'trial_type' column not found in the given events data.\n",
      "  warnings.warn(\n",
      "/Users/jennifer/anaconda3/lib/python3.11/site-packages/nilearn/glm/first_level/experimental_paradigm.py:167: UserWarning: The following unexpected columns in events data will be ignored: msecProbeRT, probert, probeACC, stimStart, stimFlip, LastITI, ProbeLoc, error, runStart, scannerStart, SetSize, correctResp, counterbalance, ProbeType, SeqStartTime, CorrectProbeColor, ProbeMatch, chooseSequence, ThisITI, probeStart, centralJitter, trialStart, CurrentTask, subject, response, block, ChosenProbeColor\n",
      "  warnings.warn(\n"
     ]
    },
    {
     "ename": "DimensionError",
     "evalue": "Input data has incompatible dimensionality: Expected dimension is 3D and you provided a list of 3D images (4D). See https://nilearn.github.io/stable/manipulating_images/input_output.html.",
     "output_type": "error",
     "traceback": [
      "\u001b[0;31m---------------------------------------------------------------------------\u001b[0m",
      "\u001b[0;31mDimensionError\u001b[0m                            Traceback (most recent call last)",
      "Cell \u001b[0;32mIn[20], line 1\u001b[0m\n\u001b[0;32m----> 1\u001b[0m plot_stat_map(\n\u001b[1;32m      2\u001b[0m     extract_beta_weights(\u001b[38;5;241m103\u001b[39m, \u001b[38;5;124m'\u001b[39m\u001b[38;5;124msameDifferent\u001b[39m\u001b[38;5;124m'\u001b[39m)[\u001b[38;5;124m'\u001b[39m\u001b[38;5;124msameDifferent\u001b[39m\u001b[38;5;124m'\u001b[39m][\u001b[38;5;124m'\u001b[39m\u001b[38;5;124mrun_1\u001b[39m\u001b[38;5;124m'\u001b[39m],\n\u001b[1;32m      3\u001b[0m     title\u001b[38;5;241m=\u001b[39m\u001b[38;5;124m\"\u001b[39m\u001b[38;5;124mChange Detection Task\u001b[39m\u001b[38;5;124m\"\u001b[39m,\n\u001b[1;32m      4\u001b[0m )\n\u001b[1;32m      5\u001b[0m show()\n",
      "File \u001b[0;32m~/anaconda3/lib/python3.11/site-packages/nilearn/plotting/img_plotting.py:1314\u001b[0m, in \u001b[0;36mplot_stat_map\u001b[0;34m(stat_map_img, bg_img, cut_coords, output_file, display_mode, colorbar, cbar_tick_format, figure, axes, title, threshold, annotate, draw_cross, black_bg, cmap, symmetric_cbar, dim, vmin, vmax, radiological, resampling_interpolation, **kwargs)\u001b[0m\n\u001b[1;32m   1309\u001b[0m \u001b[38;5;66;03m# dim the background\u001b[39;00m\n\u001b[1;32m   1310\u001b[0m bg_img, black_bg, bg_vmin, bg_vmax \u001b[38;5;241m=\u001b[39m load_anat(\n\u001b[1;32m   1311\u001b[0m     bg_img, dim\u001b[38;5;241m=\u001b[39mdim, black_bg\u001b[38;5;241m=\u001b[39mblack_bg\n\u001b[1;32m   1312\u001b[0m )\n\u001b[0;32m-> 1314\u001b[0m stat_map_img \u001b[38;5;241m=\u001b[39m _utils\u001b[38;5;241m.\u001b[39mcheck_niimg_3d(stat_map_img, dtype\u001b[38;5;241m=\u001b[39m\u001b[38;5;124m\"\u001b[39m\u001b[38;5;124mauto\u001b[39m\u001b[38;5;124m\"\u001b[39m)\n\u001b[1;32m   1316\u001b[0m cbar_vmin, cbar_vmax, vmin, vmax \u001b[38;5;241m=\u001b[39m get_colorbar_and_data_ranges(\n\u001b[1;32m   1317\u001b[0m     safe_get_data(stat_map_img, ensure_finite\u001b[38;5;241m=\u001b[39m\u001b[38;5;28;01mTrue\u001b[39;00m),\n\u001b[1;32m   1318\u001b[0m     vmin\u001b[38;5;241m=\u001b[39mvmin,\n\u001b[1;32m   1319\u001b[0m     vmax\u001b[38;5;241m=\u001b[39mvmax,\n\u001b[1;32m   1320\u001b[0m     symmetric_cbar\u001b[38;5;241m=\u001b[39msymmetric_cbar,\n\u001b[1;32m   1321\u001b[0m )\n\u001b[1;32m   1323\u001b[0m display \u001b[38;5;241m=\u001b[39m _plot_img_with_bg(\n\u001b[1;32m   1324\u001b[0m     img\u001b[38;5;241m=\u001b[39mstat_map_img,\n\u001b[1;32m   1325\u001b[0m     bg_img\u001b[38;5;241m=\u001b[39mbg_img,\n\u001b[0;32m   (...)\u001b[0m\n\u001b[1;32m   1347\u001b[0m     \u001b[38;5;241m*\u001b[39m\u001b[38;5;241m*\u001b[39mkwargs,\n\u001b[1;32m   1348\u001b[0m )\n",
      "File \u001b[0;32m~/anaconda3/lib/python3.11/site-packages/nilearn/_utils/niimg_conversions.py:370\u001b[0m, in \u001b[0;36mcheck_niimg_3d\u001b[0;34m(niimg, dtype)\u001b[0m\n\u001b[1;32m    336\u001b[0m \u001b[38;5;28;01mdef\u001b[39;00m \u001b[38;5;21mcheck_niimg_3d\u001b[39m(niimg, dtype\u001b[38;5;241m=\u001b[39m\u001b[38;5;28;01mNone\u001b[39;00m):\n\u001b[1;32m    337\u001b[0m \u001b[38;5;250m    \u001b[39m\u001b[38;5;124;03m\"\"\"Check that niimg is a proper 3D niimg-like object and load it.\u001b[39;00m\n\u001b[1;32m    338\u001b[0m \n\u001b[1;32m    339\u001b[0m \u001b[38;5;124;03m    Parameters\u001b[39;00m\n\u001b[0;32m   (...)\u001b[0m\n\u001b[1;32m    368\u001b[0m \n\u001b[1;32m    369\u001b[0m \u001b[38;5;124;03m    \"\"\"\u001b[39;00m\n\u001b[0;32m--> 370\u001b[0m     \u001b[38;5;28;01mreturn\u001b[39;00m check_niimg(niimg, ensure_ndim\u001b[38;5;241m=\u001b[39m\u001b[38;5;241m3\u001b[39m, dtype\u001b[38;5;241m=\u001b[39mdtype)\n",
      "File \u001b[0;32m~/anaconda3/lib/python3.11/site-packages/nilearn/_utils/niimg_conversions.py:310\u001b[0m, in \u001b[0;36mcheck_niimg\u001b[0;34m(niimg, ensure_ndim, atleast_4d, dtype, return_iterator, wildcards)\u001b[0m\n\u001b[1;32m    306\u001b[0m     \u001b[38;5;28;01mif\u001b[39;00m return_iterator:\n\u001b[1;32m    307\u001b[0m         \u001b[38;5;28;01mreturn\u001b[39;00m iter_check_niimg(\n\u001b[1;32m    308\u001b[0m             niimg, ensure_ndim\u001b[38;5;241m=\u001b[39mensure_ndim, dtype\u001b[38;5;241m=\u001b[39mdtype\n\u001b[1;32m    309\u001b[0m         )\n\u001b[0;32m--> 310\u001b[0m     \u001b[38;5;28;01mreturn\u001b[39;00m ni\u001b[38;5;241m.\u001b[39mimage\u001b[38;5;241m.\u001b[39mconcat_imgs(\n\u001b[1;32m    311\u001b[0m         niimg, ensure_ndim\u001b[38;5;241m=\u001b[39mensure_ndim, dtype\u001b[38;5;241m=\u001b[39mdtype\n\u001b[1;32m    312\u001b[0m     )\n\u001b[1;32m    314\u001b[0m \u001b[38;5;66;03m# Otherwise, it should be a filename or a SpatialImage, we load it\u001b[39;00m\n\u001b[1;32m    315\u001b[0m niimg \u001b[38;5;241m=\u001b[39m load_niimg(niimg, dtype\u001b[38;5;241m=\u001b[39mdtype)\n",
      "File \u001b[0;32m~/anaconda3/lib/python3.11/site-packages/nilearn/image/image.py:1465\u001b[0m, in \u001b[0;36mconcat_imgs\u001b[0;34m(niimgs, dtype, ensure_ndim, memory, memory_level, auto_resample, verbose)\u001b[0m\n\u001b[1;32m   1463\u001b[0m iterator, literator \u001b[38;5;241m=\u001b[39m itertools\u001b[38;5;241m.\u001b[39mtee(\u001b[38;5;28miter\u001b[39m(niimgs))\n\u001b[1;32m   1464\u001b[0m \u001b[38;5;28;01mtry\u001b[39;00m:\n\u001b[0;32m-> 1465\u001b[0m     first_niimg \u001b[38;5;241m=\u001b[39m check_niimg(\u001b[38;5;28mnext\u001b[39m(literator), ensure_ndim\u001b[38;5;241m=\u001b[39mndim)\n\u001b[1;32m   1466\u001b[0m \u001b[38;5;28;01mexcept\u001b[39;00m \u001b[38;5;167;01mStopIteration\u001b[39;00m:\n\u001b[1;32m   1467\u001b[0m     \u001b[38;5;28;01mraise\u001b[39;00m \u001b[38;5;167;01mTypeError\u001b[39;00m(\u001b[38;5;124m\"\u001b[39m\u001b[38;5;124mCannot concatenate empty objects\u001b[39m\u001b[38;5;124m\"\u001b[39m)\n",
      "File \u001b[0;32m~/anaconda3/lib/python3.11/site-packages/nilearn/_utils/niimg_conversions.py:328\u001b[0m, in \u001b[0;36mcheck_niimg\u001b[0;34m(niimg, ensure_ndim, atleast_4d, dtype, return_iterator, wildcards)\u001b[0m\n\u001b[1;32m    325\u001b[0m     niimg \u001b[38;5;241m=\u001b[39m new_img_like(niimg, data, niimg\u001b[38;5;241m.\u001b[39maffine)\n\u001b[1;32m    327\u001b[0m \u001b[38;5;28;01mif\u001b[39;00m ensure_ndim \u001b[38;5;129;01mis\u001b[39;00m \u001b[38;5;129;01mnot\u001b[39;00m \u001b[38;5;28;01mNone\u001b[39;00m \u001b[38;5;129;01mand\u001b[39;00m \u001b[38;5;28mlen\u001b[39m(niimg\u001b[38;5;241m.\u001b[39mshape) \u001b[38;5;241m!=\u001b[39m ensure_ndim:\n\u001b[0;32m--> 328\u001b[0m     \u001b[38;5;28;01mraise\u001b[39;00m DimensionError(\u001b[38;5;28mlen\u001b[39m(niimg\u001b[38;5;241m.\u001b[39mshape), ensure_ndim)\n\u001b[1;32m    330\u001b[0m \u001b[38;5;28;01mif\u001b[39;00m return_iterator:\n\u001b[1;32m    331\u001b[0m     \u001b[38;5;28;01mreturn\u001b[39;00m (_index_img(niimg, i) \u001b[38;5;28;01mfor\u001b[39;00m i \u001b[38;5;129;01min\u001b[39;00m \u001b[38;5;28mrange\u001b[39m(niimg\u001b[38;5;241m.\u001b[39mshape[\u001b[38;5;241m3\u001b[39m]))\n",
      "\u001b[0;31mDimensionError\u001b[0m: Input data has incompatible dimensionality: Expected dimension is 3D and you provided a list of 3D images (4D). See https://nilearn.github.io/stable/manipulating_images/input_output.html."
     ]
    }
   ],
   "source": [
    "\n",
    "\n",
    "plot_stat_map(\n",
    "    extract_beta_weights(103, 'sameDifferent')['sameDifferent']['run_1'],\n",
    "    title=\"Change Detection Task\",\n",
    ")\n",
    "show()"
   ]
  },
  {
   "cell_type": "code",
   "execution_count": null,
   "metadata": {},
   "outputs": [],
   "source": []
  }
 ],
 "metadata": {
  "kernelspec": {
   "display_name": "base",
   "language": "python",
   "name": "python3"
  },
  "language_info": {
   "codemirror_mode": {
    "name": "ipython",
    "version": 3
   },
   "file_extension": ".py",
   "mimetype": "text/x-python",
   "name": "python",
   "nbconvert_exporter": "python",
   "pygments_lexer": "ipython3",
   "version": "3.11.5"
  }
 },
 "nbformat": 4,
 "nbformat_minor": 2
}
