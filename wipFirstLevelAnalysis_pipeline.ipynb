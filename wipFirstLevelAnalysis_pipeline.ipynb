{
 "cells": [
  {
   "cell_type": "code",
   "execution_count": 12,
   "metadata": {},
   "outputs": [],
   "source": [
    "import pandas as pd\n",
    "import numpy as np\n",
    "\n",
    "#nilearn imports\n",
    "from nilearn import plotting, image\n",
    "from nilearn.image import mean_img\n",
    "from nilearn.plotting import plot_anat, plot_img, plot_stat_map, show, plot_design_matrix\n",
    "from nilearn.glm import threshold_stats_img\n",
    "from nilearn.glm.first_level import FirstLevelModel, make_first_level_design_matrix\n",
    "from nilearn.reporting import get_clusters_table, make_glm_report"
   ]
  },
  {
   "cell_type": "code",
   "execution_count": 13,
   "metadata": {},
   "outputs": [
    {
     "name": "stderr",
     "output_type": "stream",
     "text": [
      "/Users/jennifer/anaconda3/lib/python3.11/site-packages/nilearn/glm/first_level/experimental_paradigm.py:129: UserWarning: 'trial_type' column not found in the given events data.\n",
      "  warnings.warn(\n",
      "/Users/jennifer/anaconda3/lib/python3.11/site-packages/nilearn/glm/first_level/experimental_paradigm.py:167: UserWarning: The following unexpected columns in events data will be ignored: runStart, SeqStartTime, SetSize, ChosenProbeColor, counterbalance, probert, trialStart, centralJitter, ThisITI, ProbeMatch, stimStart, probeACC, CorrectProbeColor, correctResp, chooseSequence, CurrentTask, response, error, ProbeType, probeStart, subject, LastITI, stimFlip, ProbeLoc, block, msecProbeRT, scannerStart\n",
      "  warnings.warn(\n"
     ]
    },
    {
     "data": {
      "text/plain": [
       "{<nibabel.nifti1.Nifti1Image at 0x157ec6190>}"
      ]
     },
     "execution_count": 13,
     "metadata": {},
     "output_type": "execute_result"
    }
   ],
   "source": [
    "#function to get first level weights for the runs\n",
    "#possible task types include colorWheel or sameDifferent \n",
    "\n",
    "def extract_beta_weights(subject_id = None, task_type = 'colorWheel',  n_runs=1):\n",
    "    #parameters\n",
    "    tr = 2.0 \n",
    "    hrf_model = \"spm + derivative\"\n",
    "    smoothing_fwhm = 0.6\n",
    "    drift_model = \"cosine\"\n",
    "    run_betas = {\n",
    "        'colorWheel': {},\n",
    "        'sameDifferent': {}\n",
    "    }\n",
    "\n",
    "    for num_run in range(n_runs):\n",
    "        #load subject nii files\n",
    "        run_img = image.load_img(f'/Volumes/kiyonaga/MIPS/fMRI/subjects/MIPS_{subject_id}/func/run0{num_run+1}/srraf**.nii')\n",
    "\n",
    "        #load the event file for the run\n",
    "        events = pd.read_table(f'/Volumes/kiyonaga/MIPS/BIDS/sub-{subject_id}/func/sub-{subject_id}_task-{task_type.lower()}_acq-norm_run-{num_run+1}_events.tsv')\n",
    "\n",
    "        #run the first level model\n",
    "        fmri_glm = FirstLevelModel(\n",
    "            t_r=tr,\n",
    "            hrf_model=hrf_model,\n",
    "            smoothing_fwhm=smoothing_fwhm,\n",
    "            drift_model=drift_model,\n",
    "            minimize_memory=False   \n",
    "        )\n",
    "\n",
    "        fmri_glm = fmri_glm.fit(run_img, events)\n",
    "\n",
    "        #create design matrix\n",
    "        design_matrix = fmri_glm.design_matrices_[0]\n",
    "\n",
    "        #\n",
    "        n_regressors = design_matrix.shape[1]\n",
    "        activation = np.zeros(n_regressors)\n",
    "        activation[0] = 1\n",
    "\n",
    "        #should we remove confound with high_variance_confounds?\n",
    "\n",
    "        # t-statistic to z-scale \n",
    "        z_map = fmri_glm.compute_contrast(activation, output_type=\"z_score\")\n",
    "\n",
    "        report = make_glm_report(\n",
    "            fmri_glm,\n",
    "            contrasts=activation,\n",
    "            title=\"Test Report\",\n",
    "            cluster_threshold=15,\n",
    "            min_distance=8.0,\n",
    "            plot_type=\"glass\",\n",
    "        )\n",
    "        report.open_in_browser()\n",
    "        run_betas[task_type][f'run_{num_run+1}'] = {z_map}\n",
    "    return run_betas\n",
    "\n",
    "extract_beta_weights(103, 'sameDifferent')['sameDifferent']['run_1']"
   ]
  },
  {
   "cell_type": "code",
   "execution_count": null,
   "metadata": {},
   "outputs": [],
   "source": []
  },
  {
   "cell_type": "code",
   "execution_count": null,
   "metadata": {},
   "outputs": [],
   "source": []
  }
 ],
 "metadata": {
  "kernelspec": {
   "display_name": "base",
   "language": "python",
   "name": "python3"
  },
  "language_info": {
   "codemirror_mode": {
    "name": "ipython",
    "version": 3
   },
   "file_extension": ".py",
   "mimetype": "text/x-python",
   "name": "python",
   "nbconvert_exporter": "python",
   "pygments_lexer": "ipython3",
   "version": "3.11.5"
  }
 },
 "nbformat": 4,
 "nbformat_minor": 2
}
